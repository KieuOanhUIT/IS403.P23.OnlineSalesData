{
 "cells": [
  {
   "cell_type": "code",
   "execution_count": 1,
   "id": "3c5282ef",
   "metadata": {},
   "outputs": [],
   "source": [
    "# 1. Import thư viện\n",
    "import pandas as pd\n",
    "from datetime import datetime\n",
    "\n",
    "# 2. Đọc dữ liệu từ file CSV\n",
    "file_path = \"online_sales_dataset.csv\"\n",
    "df = pd.read_csv(file_path)"
   ]
  },
  {
   "cell_type": "code",
   "execution_count": 2,
   "id": "f2ac9a58",
   "metadata": {},
   "outputs": [],
   "source": [
    "# 3. Loại bỏ các hàng trùng lặp\n",
    "df.drop_duplicates(inplace=True)\n",
    "\n",
    "# 4. Loại bỏ các hàng có giá trị rỗng\n",
    "df.dropna(inplace=True)\n",
    "\n",
    "# 5. Xoá cột SalesChannel nếu tồn tại\n",
    "if 'SalesChannel' in df.columns:\n",
    "    df.drop(columns=['SalesChannel'], inplace=True)\n",
    "\n",
    "# 6. Định dạng cột ngày tháng (InvoiceDate) về dạng \"DD/MM/YYYY HH:MM:SS AM/PM\"\n",
    "def standardize_date(date_str):\n",
    "    # Định dạng lại các ký hiệu SA/CH thành AM/PM\n",
    "    date_str = date_str.replace(\" SA\", \" AM\").replace(\" CH\", \" PM\")\n",
    "    formats = [\n",
    "        '%d/%m/%Y %I:%M %p',  # Định dạng AM/PM\n",
    "        '%d/%m/%Y %H:%M',     # Định dạng 24h\n",
    "        '%Y-%m-%d %H:%M',     # Định dạng ISO 24h\n",
    "        '%d/%m/%Y %H:%M %p'   # Định dạng lộn xộn SA/CH\n",
    "    ]\n",
    "    for fmt in formats:\n",
    "        try:\n",
    "            date_obj = datetime.strptime(date_str, fmt)\n",
    "            return date_obj.strftime('%d/%m/%Y %I:%M:%S %p')\n",
    "        except ValueError:\n",
    "            continue\n",
    "    # Nếu không phù hợp định dạng nào, trả về giá trị gốc\n",
    "    return date_str\n",
    "\n",
    "df['InvoiceDate'] = df['InvoiceDate'].apply(standardize_date)\n",
    "\n",
    "# 7. Loại bỏ các hàng có giá trị âm hoặc không hợp lệ\n",
    "# - Loại bỏ hàng có Quantity <= 0 và UnitPrice <= 0\n",
    "df = df[(df['Quantity'] > 0) & (df['UnitPrice'] > 0)]\n",
    "\n",
    "# - Loại bỏ các hàng có ShippingCost âm hoặc quá cao (outlier)\n",
    "df = df[df['ShippingCost'].between(0, 1000)]\n",
    "\n",
    "# - Loại bỏ các hàng có Discount ngoài khoảng 0-1\n",
    "df = df[df['Discount'].between(0, 1)]\n",
    "\n",
    "# 8. Sửa danh mục sản phẩm không đúng bằng bảng ánh xạ\n",
    "# Bảng ánh xạ giữa Description và Category\n",
    "description_category_map = {\n",
    "    \"White Mug\": \"Accessories\",\n",
    "    \"Headphones\": \"Electronics\",\n",
    "    \"Desk Lamp\": \"Electronics\",\n",
    "    \"USB Cable\": \"Electronics\",\n",
    "    \"Office Chair\": \"Furniture\",\n",
    "    \"Notebook\": \"Stationery\",\n",
    "    \"Wireless Mouse\": \"Electronics\",\n",
    "    \"Blue Pen\": \"Stationery\",\n",
    "    \"Wall Clock\": \"Accessories\",\n",
    "    \"T-shirt\": \"Apparel\",\n",
    "    \"Backpack\": \"Apparel\"\n",
    "}\n",
    "\n",
    "# Hàm cập nhật Category theo Description\n",
    "def update_category(row):\n",
    "    description = row['Description']\n",
    "    if description in description_category_map:\n",
    "        return description_category_map[description]\n",
    "    return row['Category']\n",
    "\n",
    "df['Category'] = df.apply(update_category, axis=1)\n",
    "\n",
    "# 9. Viết hoa chữ cái đầu của \"paypall\" trong cột PaymentMethod\n",
    "df['PaymentMethod'] = df['PaymentMethod'].replace('paypall', 'Paypall')"
   ]
  },
  {
   "cell_type": "code",
   "execution_count": 3,
   "id": "bdf4ac03",
   "metadata": {},
   "outputs": [
    {
     "name": "stdout",
     "output_type": "stream",
     "text": [
      "Tiền xử lý dữ liệu hoàn tất! Dữ liệu đã được lưu tại: online_sales_dataset_cleaned_v2.csv\n"
     ]
    }
   ],
   "source": [
    "# 10. Xuất dữ liệu đã tiền xử lý ra file CSV mới\n",
    "output_path = \"online_sales_dataset_cleaned_v2.csv\"\n",
    "df.to_csv(output_path, index=False)\n",
    "\n",
    "print(\"Tiền xử lý dữ liệu hoàn tất! Dữ liệu đã được lưu tại:\", output_path)"
   ]
  }
 ],
 "metadata": {
  "kernelspec": {
   "display_name": "Python 3",
   "language": "python",
   "name": "python3"
  },
  "language_info": {
   "codemirror_mode": {
    "name": "ipython",
    "version": 3
   },
   "file_extension": ".py",
   "mimetype": "text/x-python",
   "name": "python",
   "nbconvert_exporter": "python",
   "pygments_lexer": "ipython3",
   "version": "3.12.6"
  }
 },
 "nbformat": 4,
 "nbformat_minor": 5
}
