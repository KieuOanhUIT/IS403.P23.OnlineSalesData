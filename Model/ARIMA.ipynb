{
 "cells": [
  {
   "cell_type": "code",
   "execution_count": null,
   "id": "a1a63128",
   "metadata": {},
   "outputs": [],
   "source": [
    "# Bước 1: Đọc dữ liệu từ các file đã chia\n",
    "import pandas as pd\n",
    "\n",
    "# Đọc các file train/val/test\n",
    "train_df = pd.read_csv(\"train.csv\")\n",
    "val_df = pd.read_csv(\"val.csv\")\n",
    "test_df = pd.read_csv(\"test.csv\")\n",
    "\n",
    "print(train_df.head())"
   ]
  },
  {
   "cell_type": "code",
   "execution_count": null,
   "id": "eed0cfbf",
   "metadata": {},
   "outputs": [],
   "source": [
    "# Bước 2: Chuyển dữ liệu về dạng phù hợp với từng mô hình\n",
    "train_df['Date'] = pd.to_datetime(train_df['Date'])  # cột Date\n",
    "train_df.set_index('Date', inplace=True)\n"
   ]
  }
 ],
 "metadata": {
  "language_info": {
   "name": "python"
  }
 },
 "nbformat": 4,
 "nbformat_minor": 5
}
