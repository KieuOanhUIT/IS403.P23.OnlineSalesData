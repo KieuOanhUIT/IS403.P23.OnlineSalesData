{
 "cells": [
  {
   "cell_type": "code",
   "execution_count": 18,
   "id": "8b045ba7",
   "metadata": {},
   "outputs": [],
   "source": [
    "import pandas as pd \n",
    "import numpy as np \n",
    "from xgboost import XGBRegressor\n",
    "from sklearn.metrics import mean_absolute_error, mean_absolute_error, r2_score\n",
    "import matplotlib.pyplot as plt"
   ]
  },
  {
   "cell_type": "code",
   "execution_count": 19,
   "id": "1a4815b8",
   "metadata": {},
   "outputs": [],
   "source": [
    "#1. Đọc dữ liệu\n",
    "train_df = pd.read_csv(r\"D:\\Năm 3 - HK2\\Phân tích dữ liệu kinh doanh\\IS403.P23.OnlineSalesData\\Dataset\\712\\train.csv\", parse_dates=['InvoiceDate'])\n",
    "val_df = pd.read_csv(r\"D:\\Năm 3 - HK2\\Phân tích dữ liệu kinh doanh\\IS403.P23.OnlineSalesData\\Dataset\\712\\valid.csv\", parse_dates=['InvoiceDate'])\n",
    "test_df = pd.read_csv(r\"D:\\Năm 3 - HK2\\Phân tích dữ liệu kinh doanh\\IS403.P23.OnlineSalesData\\Dataset\\712\\test.csv\", parse_dates=['InvoiceDate'])"
   ]
  },
  {
   "cell_type": "code",
   "execution_count": 20,
   "id": "2c55d796",
   "metadata": {},
   "outputs": [],
   "source": [
    "#2. Chuẩn bị dữ liệu \n",
    "def preprocess(df):\n",
    "    df = df.copy()\n",
    "    df['OrderTotal'] = (df['Quantity'] * df['UnitPrice'] * (1-df['Discount']) + df['ShippingCost'])\n",
    "    df = df[['InvoiceDate', 'OrderTotal']]\n",
    "    df = df.set_index('InvoiceDate').resample('D').sum().reset_index()\n",
    "    df['dayofweek'] = df['InvoiceDate'].dt.dayofweek\n",
    "    df['month'] = df['InvoiceDate'].dt.month\n",
    "    df['day'] = df['InvoiceDate'].dt.day\n",
    "    df['year'] = df['InvoiceDate'].dt.year\n",
    "    df['lag1'] = df['OrderTotal'].shift(1)\n",
    "    df['lag7'] = df['OrderTotal'].shift(7)\n",
    "    df.dropna(inplace=True)\n",
    "    return df\n",
    "\n",
    "train = preprocess(train_df)\n",
    "valid = preprocess(val_df)\n",
    "test = preprocess(test_df)\n"
   ]
  },
  {
   "cell_type": "code",
   "execution_count": 21,
   "id": "294e87b7",
   "metadata": {},
   "outputs": [],
   "source": [
    "# 3. Tạo tập dữ liệu huấn luyện & kiểm thử\n",
    "X_train, y_train = train[['dayofweek','month','day','year','lag1','lag7']], train['OrderTotal']\n",
    "X_valid, y_valid = valid[['dayofweek','month','day','year','lag1','lag7']], valid['OrderTotal']\n",
    "X_test, y_test   = test[['dayofweek','month','day','year','lag1','lag7']], test['OrderTotal']"
   ]
  },
  {
   "cell_type": "code",
   "execution_count": 22,
   "id": "70c203c3",
   "metadata": {},
   "outputs": [
    {
     "ename": "TypeError",
     "evalue": "XGBModel.fit() got an unexpected keyword argument 'early_stopping_rounds'",
     "output_type": "error",
     "traceback": [
      "\u001b[1;31m---------------------------------------------------------------------------\u001b[0m",
      "\u001b[1;31mTypeError\u001b[0m                                 Traceback (most recent call last)",
      "Cell \u001b[1;32mIn[22], line 3\u001b[0m\n\u001b[0;32m      1\u001b[0m \u001b[38;5;66;03m# 4. Huấn luyện mô hình\u001b[39;00m\n\u001b[0;32m      2\u001b[0m model \u001b[38;5;241m=\u001b[39m XGBRegressor(n_estimators\u001b[38;5;241m=\u001b[39m\u001b[38;5;241m100\u001b[39m, learning_rate\u001b[38;5;241m=\u001b[39m\u001b[38;5;241m0.1\u001b[39m)\n\u001b[1;32m----> 3\u001b[0m \u001b[43mmodel\u001b[49m\u001b[38;5;241;43m.\u001b[39;49m\u001b[43mfit\u001b[49m\u001b[43m(\u001b[49m\u001b[43mX_train\u001b[49m\u001b[43m,\u001b[49m\u001b[43m \u001b[49m\u001b[43my_train\u001b[49m\u001b[43m,\u001b[49m\u001b[43m \u001b[49m\n\u001b[0;32m      4\u001b[0m \u001b[43m          \u001b[49m\u001b[43meval_set\u001b[49m\u001b[38;5;241;43m=\u001b[39;49m\u001b[43m[\u001b[49m\u001b[43m(\u001b[49m\u001b[43mX_valid\u001b[49m\u001b[43m,\u001b[49m\u001b[43m \u001b[49m\u001b[43my_valid\u001b[49m\u001b[43m)\u001b[49m\u001b[43m]\u001b[49m\u001b[43m,\u001b[49m\u001b[43m \u001b[49m\n\u001b[0;32m      5\u001b[0m \u001b[43m          \u001b[49m\u001b[43mearly_stopping_rounds\u001b[49m\u001b[38;5;241;43m=\u001b[39;49m\u001b[38;5;241;43m10\u001b[39;49m\u001b[43m,\u001b[49m\u001b[43m \u001b[49m\u001b[43mverbose\u001b[49m\u001b[38;5;241;43m=\u001b[39;49m\u001b[38;5;28;43;01mFalse\u001b[39;49;00m\u001b[43m)\u001b[49m\n",
      "File \u001b[1;32mc:\\Users\\QUYEN\\AppData\\Local\\Programs\\Python\\Python312\\Lib\\site-packages\\xgboost\\core.py:726\u001b[0m, in \u001b[0;36mrequire_keyword_args.<locals>.throw_if.<locals>.inner_f\u001b[1;34m(*args, **kwargs)\u001b[0m\n\u001b[0;32m    724\u001b[0m \u001b[38;5;28;01mfor\u001b[39;00m k, arg \u001b[38;5;129;01min\u001b[39;00m \u001b[38;5;28mzip\u001b[39m(sig\u001b[38;5;241m.\u001b[39mparameters, args):\n\u001b[0;32m    725\u001b[0m     kwargs[k] \u001b[38;5;241m=\u001b[39m arg\n\u001b[1;32m--> 726\u001b[0m \u001b[38;5;28;01mreturn\u001b[39;00m \u001b[43mfunc\u001b[49m\u001b[43m(\u001b[49m\u001b[38;5;241;43m*\u001b[39;49m\u001b[38;5;241;43m*\u001b[39;49m\u001b[43mkwargs\u001b[49m\u001b[43m)\u001b[49m\n",
      "\u001b[1;31mTypeError\u001b[0m: XGBModel.fit() got an unexpected keyword argument 'early_stopping_rounds'"
     ]
    }
   ],
   "source": [
    "# 4. Huấn luyện mô hình\n",
    "model = XGBRegressor(n_estimators=100, learning_rate=0.1)\n",
    "model.fit(X_train, y_train, \n",
    "          eval_set=[(X_valid, y_valid)], \n",
    "          early_stopping_rounds=10, verbose=False)\n"
   ]
  }
 ],
 "metadata": {
  "kernelspec": {
   "display_name": "Python 3",
   "language": "python",
   "name": "python3"
  },
  "language_info": {
   "codemirror_mode": {
    "name": "ipython",
    "version": 3
   },
   "file_extension": ".py",
   "mimetype": "text/x-python",
   "name": "python",
   "nbconvert_exporter": "python",
   "pygments_lexer": "ipython3",
   "version": "3.12.6"
  }
 },
 "nbformat": 4,
 "nbformat_minor": 5
}
